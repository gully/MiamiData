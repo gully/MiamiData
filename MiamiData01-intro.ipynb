{
 "cells": [
  {
   "cell_type": "markdown",
   "metadata": {},
   "source": [
    "# CodeForMiami\n",
    "## Monday, June 29, 2015\n",
    "### LAB Miami"
   ]
  },
  {
   "cell_type": "markdown",
   "metadata": {},
   "source": [
    "The goals for this hack are:\n",
    "- Explore open data\n",
    "- Fetch open data\n",
    "- Data munge/clean\n",
    "- Make a plot\n",
    "- (optionally) Make a blog post"
   ]
  },
  {
   "cell_type": "markdown",
   "metadata": {},
   "source": [
    "First, we will import all the modules we will need.  \n",
    "I especially like **`pandas` and `seaborn`.**"
   ]
  },
  {
   "cell_type": "code",
   "execution_count": 1,
   "metadata": {
    "collapsed": true
   },
   "outputs": [],
   "source": [
    "%matplotlib inline\n",
    "import pandas as pd\n",
    "import seaborn as sns\n",
    "from scipy import stats\n",
    "import numpy as np\n",
    "import matplotlib.pyplot as plt # side-stepping mpl backend\n",
    "\n",
    "import warnings\n",
    "warnings.filterwarnings(\"ignore\") #YOLO\n",
    "\n",
    "import seaborn as sns\n",
    "sns.set_context('notebook', font_scale=1.5)\n"
   ]
  },
  {
   "cell_type": "markdown",
   "metadata": {},
   "source": [
    "###Fetch open data"
   ]
  },
  {
   "cell_type": "markdown",
   "metadata": {},
   "source": [
    "Next, we need to import the data.  I accessed the 311 open data at [Miami-Dade County’s Open Data Portal](https://opendata.miamidade.gov/).\n",
    "\n",
    "I saved it as a `.csv` file."
   ]
  },
  {
   "cell_type": "code",
   "execution_count": 2,
   "metadata": {
    "collapsed": false
   },
   "outputs": [
    {
     "name": "stdout",
     "output_type": "stream",
     "text": [
      "311_Service_Requests_-_Miami-Dade_County.csv\r\n"
     ]
    }
   ],
   "source": [
    "!ls data/"
   ]
  },
  {
   "cell_type": "code",
   "execution_count": 3,
   "metadata": {
    "collapsed": true
   },
   "outputs": [],
   "source": [
    "dat = pd.read_csv('data/311_Service_Requests_-_Miami-Dade_County.csv')"
   ]
  },
  {
   "cell_type": "markdown",
   "metadata": {},
   "source": [
    "It has almost 400,000 rows!"
   ]
  },
  {
   "cell_type": "code",
   "execution_count": 4,
   "metadata": {
    "collapsed": false
   },
   "outputs": [
    {
     "data": {
      "text/plain": [
       "396077"
      ]
     },
     "execution_count": 4,
     "metadata": {},
     "output_type": "execute_result"
    }
   ],
   "source": [
    "len(dat.City)"
   ]
  },
  {
   "cell_type": "code",
   "execution_count": 5,
   "metadata": {
    "collapsed": false
   },
   "outputs": [
    {
     "data": {
      "text/html": [
       "<div style=\"max-height:1000px;max-width:1500px;overflow:auto;\">\n",
       "<table border=\"1\" class=\"dataframe\">\n",
       "  <thead>\n",
       "    <tr style=\"text-align: right;\">\n",
       "      <th></th>\n",
       "      <th>Ticket ID</th>\n",
       "      <th>Issue Type</th>\n",
       "      <th>Issue Description</th>\n",
       "      <th>Case Owner</th>\n",
       "      <th>Street Address</th>\n",
       "      <th>City</th>\n",
       "      <th>State / Province</th>\n",
       "      <th>Zip / Postal Code</th>\n",
       "      <th>Neighborhood / District / Ward / etc.</th>\n",
       "      <th>Created Year Month</th>\n",
       "      <th>Ticket Created Date / Time</th>\n",
       "      <th>Ticket Last Updated Date / Time</th>\n",
       "      <th>Ticket Closed Date / Time</th>\n",
       "      <th>Ticket Status</th>\n",
       "      <th>Location</th>\n",
       "      <th>Method Received</th>\n",
       "      <th>Goal Days</th>\n",
       "      <th>Actual Completed Days</th>\n",
       "    </tr>\n",
       "  </thead>\n",
       "  <tbody>\n",
       "    <tr>\n",
       "      <th>0</th>\n",
       "      <td> 13-10117340</td>\n",
       "      <td>                                       POTHOLE</td>\n",
       "      <td>NaN</td>\n",
       "      <td>    Public_Works_Road_And_Bridges-16-60</td>\n",
       "      <td>  10300 NW 10TH AVE</td>\n",
       "      <td> Miami_Dade_County</td>\n",
       "      <td> Florida</td>\n",
       "      <td> 33150</td>\n",
       "      <td>  District 2</td>\n",
       "      <td> 20142</td>\n",
       "      <td> 02/18/2014 12:00:00 AM</td>\n",
       "      <td> 02/20/2014 12:00:00 AM</td>\n",
       "      <td> 02/18/2014 11:35:00 AM</td>\n",
       "      <td> CLOSED</td>\n",
       "      <td> 10300 NW 10TH AVE\\nMIAMI, Florida 33150\\n(25.8...</td>\n",
       "      <td> PHONE</td>\n",
       "      <td>  3</td>\n",
       "      <td> 0</td>\n",
       "    </tr>\n",
       "    <tr>\n",
       "      <th>1</th>\n",
       "      <td> 13-10118035</td>\n",
       "      <td>                                      PW OTHER</td>\n",
       "      <td>NaN</td>\n",
       "      <td>          Public_Works_Waste_Management</td>\n",
       "      <td>   3011 SW 84TH AVE</td>\n",
       "      <td> Miami_Dade_County</td>\n",
       "      <td> Florida</td>\n",
       "      <td> 33155</td>\n",
       "      <td> District 10</td>\n",
       "      <td> 20142</td>\n",
       "      <td> 02/18/2014 12:00:00 AM</td>\n",
       "      <td> 08/05/2014 12:00:00 AM</td>\n",
       "      <td> 02/18/2014 11:34:12 AM</td>\n",
       "      <td> CLOSED</td>\n",
       "      <td> 3011 SW 84TH AVE\\nMIAMI, Florida 33155\\n(25.74...</td>\n",
       "      <td> PHONE</td>\n",
       "      <td> 90</td>\n",
       "      <td> 0</td>\n",
       "    </tr>\n",
       "    <tr>\n",
       "      <th>2</th>\n",
       "      <td> 13-10123125</td>\n",
       "      <td>                                      PW OTHER</td>\n",
       "      <td>NaN</td>\n",
       "      <td>          Public_Works_Waste_Management</td>\n",
       "      <td>   6851 NW 12TH AVE</td>\n",
       "      <td>     City_of_Miami</td>\n",
       "      <td> Florida</td>\n",
       "      <td> 33150</td>\n",
       "      <td>  District 3</td>\n",
       "      <td> 20142</td>\n",
       "      <td> 02/18/2014 12:00:00 AM</td>\n",
       "      <td> 03/26/2014 12:00:00 AM</td>\n",
       "      <td> 02/18/2014 11:30:28 AM</td>\n",
       "      <td> CLOSED</td>\n",
       "      <td> 6851 NW 12TH AVE\\nMIAMI, Florida 33150\\n(25.83...</td>\n",
       "      <td> PHONE</td>\n",
       "      <td> 90</td>\n",
       "      <td> 0</td>\n",
       "    </tr>\n",
       "    <tr>\n",
       "      <th>3</th>\n",
       "      <td> 13-10124050</td>\n",
       "      <td>                                      PW OTHER</td>\n",
       "      <td>NaN</td>\n",
       "      <td>          Public_Works_Waste_Management</td>\n",
       "      <td>  14400 NE 16TH AVE</td>\n",
       "      <td> Miami_Dade_County</td>\n",
       "      <td> Florida</td>\n",
       "      <td> 33161</td>\n",
       "      <td>  District 2</td>\n",
       "      <td> 20142</td>\n",
       "      <td> 02/18/2014 12:00:00 AM</td>\n",
       "      <td> 06/17/2014 12:00:00 AM</td>\n",
       "      <td> 02/18/2014 11:28:56 AM</td>\n",
       "      <td> CLOSED</td>\n",
       "      <td> 14400 NE 16TH AVE\\nMIAMI, Florida 33161\\n(25.9...</td>\n",
       "      <td> PHONE</td>\n",
       "      <td> 90</td>\n",
       "      <td> 0</td>\n",
       "    </tr>\n",
       "    <tr>\n",
       "      <th>4</th>\n",
       "      <td> 13-10127425</td>\n",
       "      <td> TRAFFIC SIGN STREET NAME MISSING DOWN DAMAGED</td>\n",
       "      <td>NaN</td>\n",
       "      <td> Public_Works_Traffic_Engineering-10-60</td>\n",
       "      <td> 15201 SW 172ND AVE</td>\n",
       "      <td> Miami_Dade_County</td>\n",
       "      <td> Florida</td>\n",
       "      <td> 33187</td>\n",
       "      <td>  District 9</td>\n",
       "      <td> 20142</td>\n",
       "      <td> 02/20/2014 12:00:00 AM</td>\n",
       "      <td> 03/05/2014 12:00:00 AM</td>\n",
       "      <td> 02/20/2014 01:14:02 PM</td>\n",
       "      <td> CLOSED</td>\n",
       "      <td> 15201 SW 172ND AVE\\nMIAMI, Florida 33187\\n(25....</td>\n",
       "      <td> PHONE</td>\n",
       "      <td> 45</td>\n",
       "      <td> 0</td>\n",
       "    </tr>\n",
       "  </tbody>\n",
       "</table>\n",
       "</div>"
      ],
      "text/plain": [
       "     Ticket ID                                     Issue Type  \\\n",
       "0  13-10117340                                        POTHOLE   \n",
       "1  13-10118035                                       PW OTHER   \n",
       "2  13-10123125                                       PW OTHER   \n",
       "3  13-10124050                                       PW OTHER   \n",
       "4  13-10127425  TRAFFIC SIGN STREET NAME MISSING DOWN DAMAGED   \n",
       "\n",
       "   Issue Description                              Case Owner  \\\n",
       "0                NaN     Public_Works_Road_And_Bridges-16-60   \n",
       "1                NaN           Public_Works_Waste_Management   \n",
       "2                NaN           Public_Works_Waste_Management   \n",
       "3                NaN           Public_Works_Waste_Management   \n",
       "4                NaN  Public_Works_Traffic_Engineering-10-60   \n",
       "\n",
       "       Street Address               City State / Province  Zip / Postal Code  \\\n",
       "0   10300 NW 10TH AVE  Miami_Dade_County          Florida              33150   \n",
       "1    3011 SW 84TH AVE  Miami_Dade_County          Florida              33155   \n",
       "2    6851 NW 12TH AVE      City_of_Miami          Florida              33150   \n",
       "3   14400 NE 16TH AVE  Miami_Dade_County          Florida              33161   \n",
       "4  15201 SW 172ND AVE  Miami_Dade_County          Florida              33187   \n",
       "\n",
       "  Neighborhood / District / Ward / etc.  Created Year Month  \\\n",
       "0                            District 2               20142   \n",
       "1                           District 10               20142   \n",
       "2                            District 3               20142   \n",
       "3                            District 2               20142   \n",
       "4                            District 9               20142   \n",
       "\n",
       "  Ticket Created Date / Time Ticket Last Updated Date / Time  \\\n",
       "0     02/18/2014 12:00:00 AM          02/20/2014 12:00:00 AM   \n",
       "1     02/18/2014 12:00:00 AM          08/05/2014 12:00:00 AM   \n",
       "2     02/18/2014 12:00:00 AM          03/26/2014 12:00:00 AM   \n",
       "3     02/18/2014 12:00:00 AM          06/17/2014 12:00:00 AM   \n",
       "4     02/20/2014 12:00:00 AM          03/05/2014 12:00:00 AM   \n",
       "\n",
       "  Ticket Closed Date / Time Ticket Status  \\\n",
       "0    02/18/2014 11:35:00 AM        CLOSED   \n",
       "1    02/18/2014 11:34:12 AM        CLOSED   \n",
       "2    02/18/2014 11:30:28 AM        CLOSED   \n",
       "3    02/18/2014 11:28:56 AM        CLOSED   \n",
       "4    02/20/2014 01:14:02 PM        CLOSED   \n",
       "\n",
       "                                            Location Method Received  \\\n",
       "0  10300 NW 10TH AVE\\nMIAMI, Florida 33150\\n(25.8...           PHONE   \n",
       "1  3011 SW 84TH AVE\\nMIAMI, Florida 33155\\n(25.74...           PHONE   \n",
       "2  6851 NW 12TH AVE\\nMIAMI, Florida 33150\\n(25.83...           PHONE   \n",
       "3  14400 NE 16TH AVE\\nMIAMI, Florida 33161\\n(25.9...           PHONE   \n",
       "4  15201 SW 172ND AVE\\nMIAMI, Florida 33187\\n(25....           PHONE   \n",
       "\n",
       "   Goal Days  Actual Completed Days  \n",
       "0          3                      0  \n",
       "1         90                      0  \n",
       "2         90                      0  \n",
       "3         90                      0  \n",
       "4         45                      0  "
      ]
     },
     "execution_count": 5,
     "metadata": {},
     "output_type": "execute_result"
    }
   ],
   "source": [
    "dat.head()"
   ]
  },
  {
   "cell_type": "code",
   "execution_count": 6,
   "metadata": {
    "collapsed": false
   },
   "outputs": [
    {
     "data": {
      "text/plain": [
       "Index([u'Ticket ID', u'Issue Type', u'Issue Description', u'Case Owner', u'Street Address', u'City', u'State / Province', u'Zip / Postal Code', u'Neighborhood / District / Ward / etc.', u'Created Year Month', u'Ticket Created Date / Time', u'Ticket Last Updated Date / Time', u'Ticket Closed Date / Time', u'Ticket Status', u'Location', u'Method Received', u'Goal Days', u'Actual Completed Days'], dtype='object')"
      ]
     },
     "execution_count": 6,
     "metadata": {},
     "output_type": "execute_result"
    }
   ],
   "source": [
    "dat.columns"
   ]
  },
  {
   "cell_type": "code",
   "execution_count": 7,
   "metadata": {
    "collapsed": false
   },
   "outputs": [
    {
     "data": {
      "text/plain": [
       "<matplotlib.text.Text at 0x1125ac390>"
      ]
     },
     "execution_count": 7,
     "metadata": {},
     "output_type": "execute_result"
    },
    {
     "data": {
      "image/png": "[encoded data removed]",
      "text/plain": [
       "<matplotlib.figure.Figure at 0x112578490>"
      ]
     },
     "metadata": {},
     "output_type": "display_data"
    }
   ],
   "source": [
    "plt.plot(dat['Goal Days'], dat['Actual Completed Days'], '.', alpha=0.1)\n",
    "plt.xlim(0, 30)\n",
    "plt.ylim(0, 30)\n",
    "plt.title('Does 311 meet its goals?')\n",
    "plt.xlabel('Goal (Days)')\n",
    "plt.ylabel('Actual (Days)')"
   ]
  },
  {
   "cell_type": "markdown",
   "metadata": {},
   "source": [
    "Yuck, that's a scatter plot.  Let's make a 2D (Hess) diagram."
   ]
  },
  {
   "cell_type": "code",
   "execution_count": 8,
   "metadata": {
    "collapsed": true
   },
   "outputs": [],
   "source": [
    "H, xbins, ybins = np.histogram2d(dat['Goal Days'], dat['Actual Completed Days'],\n",
    "                                 bins=(np.linspace(-60, 60, 120),\n",
    "                                       np.linspace(-60, 60, 120)))"
   ]
  },
  {
   "cell_type": "code",
   "execution_count": 9,
   "metadata": {
    "collapsed": true
   },
   "outputs": [],
   "source": [
    "sns.set_style('dark')"
   ]
  },
  {
   "cell_type": "code",
   "execution_count": 10,
   "metadata": {
    "collapsed": false
   },
   "outputs": [
    {
     "data": {
      "text/plain": [
       "<matplotlib.text.Text at 0x1125f7e50>"
      ]
     },
     "execution_count": 10,
     "metadata": {},
     "output_type": "execute_result"
    },
    {
     "data": {
      "image/png": "[encoded data removed]",
      "text/plain": [
       "<matplotlib.figure.Figure at 0x108fb87d0>"
      ]
     },
     "metadata": {},
     "output_type": "display_data"
    }
   ],
   "source": [
    "# Create a black and white color map where bad data (NaNs) are white\n",
    "cmap = plt.cm.bone\n",
    "cmap.set_bad('w', 1.)\n",
    "\n",
    "# Use the image display function imshow() to plot the result\n",
    "fig, ax = plt.subplots(figsize=(7, 7))\n",
    "H[H == 0] = 1  # prevent warnings in log10\n",
    "ax.imshow(np.log10(H).T, origin='lower',\n",
    "          extent=[xbins[0], xbins[-1], ybins[0], ybins[-1]],\n",
    "          cmap=cmap, interpolation='nearest',\n",
    "          aspect='auto')\n",
    "ax.plot([0,60],[0, 60], 'r--')\n",
    "plt.xlim(0,60)\n",
    "plt.ylim(0,60)\n",
    "plt.xlabel('Goal (days)')\n",
    "plt.ylabel('Actual (days)')"
   ]
  },
  {
   "cell_type": "markdown",
   "metadata": {},
   "source": [
    "That looks better.  The red-dashed line is the 1:1 line.  Above this line, 311 did not meet its goal to complete the task, below this line 311 completed the task faster than its goal.  It sort of looks like most 311 tasks are completed below the 1:1 line.  But let's just compute it."
   ]
  },
  {
   "cell_type": "code",
   "execution_count": 11,
   "metadata": {
    "collapsed": false
   },
   "outputs": [
    {
     "data": {
      "text/plain": [
       "Index([u'Ticket ID', u'Issue Type', u'Issue Description', u'Case Owner', u'Street Address', u'City', u'State / Province', u'Zip / Postal Code', u'Neighborhood / District / Ward / etc.', u'Created Year Month', u'Ticket Created Date / Time', u'Ticket Last Updated Date / Time', u'Ticket Closed Date / Time', u'Ticket Status', u'Location', u'Method Received', u'Goal Days', u'Actual Completed Days'], dtype='object')"
      ]
     },
     "execution_count": 11,
     "metadata": {},
     "output_type": "execute_result"
    }
   ],
   "source": [
    "dat.columns"
   ]
  },
  {
   "cell_type": "code",
   "execution_count": 12,
   "metadata": {
    "collapsed": true
   },
   "outputs": [],
   "source": [
    "diff = dat['Actual Completed Days'] - dat['Goal Days']"
   ]
  },
  {
   "cell_type": "code",
   "execution_count": 13,
   "metadata": {
    "collapsed": false
   },
   "outputs": [],
   "source": [
    "good_diff = diff[diff == diff] "
   ]
  },
  {
   "cell_type": "code",
   "execution_count": 18,
   "metadata": {
    "collapsed": false
   },
   "outputs": [
    {
     "data": {
      "text/plain": [
       "<matplotlib.text.Text at 0x112b3fb90>"
      ]
     },
     "execution_count": 18,
     "metadata": {},
     "output_type": "execute_result"
    },
    {
     "data": {
      "image/png": "[encoded data removed]",
      "text/plain": [
       "<matplotlib.figure.Figure at 0x113411350>"
      ]
     },
     "metadata": {},
     "output_type": "display_data"
    }
   ],
   "source": [
    "plt.hist(good_diff, range=(-100, 100), bins=100)\n",
    "plt.yscale('linear')\n",
    "plt.xlabel('Actual - Goal')\n",
    "plt.ylabel('$N$')"
   ]
  },
  {
   "cell_type": "code",
   "execution_count": 15,
   "metadata": {
    "collapsed": true
   },
   "outputs": [],
   "source": [
    "n_good = np.sum(good_diff <= 0)\n",
    "n_bad = np.sum(good_diff > 0)\n",
    "n_tot = len(good_diff)"
   ]
  },
  {
   "cell_type": "code",
   "execution_count": 16,
   "metadata": {
    "collapsed": false
   },
   "outputs": [
    {
     "data": {
      "text/plain": [
       "(324364, 60136, 384500)"
      ]
     },
     "execution_count": 16,
     "metadata": {},
     "output_type": "execute_result"
    }
   ],
   "source": [
    "n_good, n_bad, n_tot"
   ]
  },
  {
   "cell_type": "code",
   "execution_count": 17,
   "metadata": {
    "collapsed": false
   },
   "outputs": [
    {
     "name": "stdout",
     "output_type": "stream",
     "text": [
      "Miami 311 meets their goal 84.4% of the time.\n"
     ]
    }
   ],
   "source": [
    "print \"Miami 311 meets their goal {:.1f}% of the time.\".format(n_good*100.0/n_tot)"
   ]
  },
  {
   "cell_type": "markdown",
   "metadata": {},
   "source": [
    "**Miami 311 gets a B.**"
   ]
  },
  {
   "cell_type": "markdown",
   "metadata": {},
   "source": [
    "The end!"
   ]
  }
 ],
 "metadata": {
  "kernelspec": {
   "display_name": "Python 2",
   "language": "python",
   "name": "python2"
  },
  "language_info": {
   "codemirror_mode": {
    "name": "ipython",
    "version": 2
   },
   "file_extension": ".py",
   "mimetype": "text/x-python",
   "name": "python",
   "nbconvert_exporter": "python",
   "pygments_lexer": "ipython2",
   "version": "2.7.10"
  }
 },
 "nbformat": 4,
 "nbformat_minor": 0
}
